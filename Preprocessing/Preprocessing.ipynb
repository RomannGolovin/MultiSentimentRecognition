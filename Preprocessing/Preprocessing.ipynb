{
 "cells": [
  {
   "cell_type": "code",
   "execution_count": 1,
   "id": "ffd8aa16",
   "metadata": {},
   "outputs": [],
   "source": [
    "import warnings\n",
    "warnings.filterwarnings('ignore')"
   ]
  },
  {
   "cell_type": "code",
   "execution_count": 2,
   "id": "1ef1e088",
   "metadata": {},
   "outputs": [],
   "source": [
    "from tqdm.notebook import tqdm, trange\n",
    "import gc\n",
    "import nltk\n",
    "from nltk.stem import WordNetLemmatizer\n",
    "from nltk.tokenize import word_tokenize\n",
    "from nltk.tokenize import TweetTokenizer\n",
    "from string import punctuation"
   ]
  },
  {
   "cell_type": "code",
   "execution_count": 7,
   "id": "acb3aa6a",
   "metadata": {},
   "outputs": [],
   "source": [
    "import re\n",
    "def remove_url(text):\n",
    "    text = re.sub(r'www.\\S+','', text)\n",
    "    text = re.sub(r't.co/\\S+','', text)\n",
    "    return re.sub(r'http\\S+','', text)\n",
    "\n",
    "def remove_special_characters(text, drop_digit, drop_cyrillic):\n",
    "    if drop_digit:\n",
    "        if drop_cyrillic:\n",
    "            pattern=r'[^a-zA-Z@#\\s]'\n",
    "        else:\n",
    "            pattern=r'[^a-zA-Zа-яА-Я@#\\s]'\n",
    "    else:\n",
    "        if drop_cyrillic:\n",
    "            pattern=r'[^a-zA-Z0-9@#\\s]'\n",
    "        else:\n",
    "            pattern=r'[^a-zA-Zа-яА-Я0-9@#\\s]'\n",
    "    text=re.sub(pattern,'',text)\n",
    "    return text\n",
    "\n",
    "def remove_extra_spaces(text):\n",
    "    return ' '.join(text.split())"
   ]
  },
  {
   "cell_type": "code",
   "execution_count": 12,
   "id": "68866da3",
   "metadata": {},
   "outputs": [
    {
     "data": {
      "text/plain": [
       "'vmsррltrawмтыщощvjs'"
      ]
     },
     "execution_count": 12,
     "metadata": {},
     "output_type": "execute_result"
    }
   ],
   "source": [
    "text = 'vms6ррltr195a,./w-84мтыщощ094vjs'\n",
    "remove_special_characters(text=text, drop_digit=True, drop_cyrillic=False)"
   ]
  },
  {
   "cell_type": "code",
   "execution_count": 5,
   "id": "302f5f11",
   "metadata": {},
   "outputs": [],
   "source": [
    "def create_lemma(text, tokenizer, lemmatizer, punctuations, stop_words, get_lemma):\n",
    "    for item in punctuations:\n",
    "        if item in text:\n",
    "            text = text.replace(item, ' '+item+' ')\n",
    "    pre_token = tokenizer(text)\n",
    "    tokens=[x.lower() for x in pre_token if x not in punctuations]\n",
    "    if get_lemma:\n",
    "        return tokens\n",
    "    else:\n",
    "        lemma = [lemmatizer(word) for word in tokens if word.isdigit()==False and word not in stop_words]\n",
    "        return lemma"
   ]
  },
  {
   "cell_type": "code",
   "execution_count": 6,
   "id": "c4df1f73",
   "metadata": {},
   "outputs": [
    {
     "name": "stderr",
     "output_type": "stream",
     "text": [
      "[nltk_data] Downloading package punkt to\n",
      "[nltk_data]     C:\\Users\\Lenovo\\AppData\\Roaming\\nltk_data...\n",
      "[nltk_data]   Package punkt is already up-to-date!\n",
      "[nltk_data] Downloading package stopwords to\n",
      "[nltk_data]     C:\\Users\\Lenovo\\AppData\\Roaming\\nltk_data...\n",
      "[nltk_data]   Package stopwords is already up-to-date!\n"
     ]
    },
    {
     "data": {
      "text/plain": [
       "['hello', 'world']"
      ]
     },
     "execution_count": 6,
     "metadata": {},
     "output_type": "execute_result"
    }
   ],
   "source": [
    "nltk.download('punkt')\n",
    "nltk.download('stopwords')\n",
    "\n",
    "punctuations = list(punctuation)\n",
    "punkt = ['``','...',\"''\",'«','»','…','”','”','“','-','–','..','#','@']\n",
    "punctuations.extend(punkt)\n",
    "from nltk.corpus import stopwords\n",
    "stop_words = list(stopwords.words('english'))\n",
    "tt = TweetTokenizer()\n",
    "lemm = WordNetLemmatizer()  \n",
    "create_lemma('Hello, world!', tt.tokenize, lemm.lemmatize, punctuations, stop_words,'lemma') \n",
    "    "
   ]
  },
  {
   "cell_type": "code",
   "execution_count": null,
   "id": "be3ab6e9",
   "metadata": {},
   "outputs": [],
   "source": []
  },
  {
   "cell_type": "code",
   "execution_count": null,
   "id": "876d54bc",
   "metadata": {},
   "outputs": [],
   "source": []
  },
  {
   "cell_type": "code",
   "execution_count": null,
   "id": "eb39d8ed",
   "metadata": {},
   "outputs": [],
   "source": []
  }
 ],
 "metadata": {
  "kernelspec": {
   "display_name": "Python 3 (ipykernel)",
   "language": "python",
   "name": "python3"
  },
  "language_info": {
   "codemirror_mode": {
    "name": "ipython",
    "version": 3
   },
   "file_extension": ".py",
   "mimetype": "text/x-python",
   "name": "python",
   "nbconvert_exporter": "python",
   "pygments_lexer": "ipython3",
   "version": "3.11.5"
  }
 },
 "nbformat": 4,
 "nbformat_minor": 5
}
