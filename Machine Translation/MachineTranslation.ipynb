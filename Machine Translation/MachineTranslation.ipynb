{
 "cells": [
  {
   "cell_type": "code",
   "execution_count": 1,
   "id": "ffd8aa16",
   "metadata": {},
   "outputs": [],
   "source": [
    "import warnings\n",
    "warnings.filterwarnings('ignore')"
   ]
  },
  {
   "cell_type": "code",
   "execution_count": 10,
   "id": "1ef1e088",
   "metadata": {},
   "outputs": [],
   "source": [
    "from tqdm.notebook import tqdm, trange\n",
    "import pandas as pd\n",
    "import gc\n",
    "from deep_translator import GoogleTranslator"
   ]
  },
  {
   "cell_type": "code",
   "execution_count": 41,
   "id": "dc4d72d9",
   "metadata": {
    "scrolled": false
   },
   "outputs": [],
   "source": [
    "df = pd.read_excel('data_clean.xlsx')"
   ]
  },
  {
   "cell_type": "code",
   "execution_count": 5,
   "id": "eb39d8ed",
   "metadata": {},
   "outputs": [
    {
     "data": {
      "text/plain": [
       "{'afrikaans': 'af',\n",
       " 'albanian': 'sq',\n",
       " 'amharic': 'am',\n",
       " 'arabic': 'ar',\n",
       " 'armenian': 'hy',\n",
       " 'assamese': 'as',\n",
       " 'aymara': 'ay',\n",
       " 'azerbaijani': 'az',\n",
       " 'bambara': 'bm',\n",
       " 'basque': 'eu',\n",
       " 'belarusian': 'be',\n",
       " 'bengali': 'bn',\n",
       " 'bhojpuri': 'bho',\n",
       " 'bosnian': 'bs',\n",
       " 'bulgarian': 'bg',\n",
       " 'catalan': 'ca',\n",
       " 'cebuano': 'ceb',\n",
       " 'chichewa': 'ny',\n",
       " 'chinese (simplified)': 'zh-CN',\n",
       " 'chinese (traditional)': 'zh-TW',\n",
       " 'corsican': 'co',\n",
       " 'croatian': 'hr',\n",
       " 'czech': 'cs',\n",
       " 'danish': 'da',\n",
       " 'dhivehi': 'dv',\n",
       " 'dogri': 'doi',\n",
       " 'dutch': 'nl',\n",
       " 'english': 'en',\n",
       " 'esperanto': 'eo',\n",
       " 'estonian': 'et',\n",
       " 'ewe': 'ee',\n",
       " 'filipino': 'tl',\n",
       " 'finnish': 'fi',\n",
       " 'french': 'fr',\n",
       " 'frisian': 'fy',\n",
       " 'galician': 'gl',\n",
       " 'georgian': 'ka',\n",
       " 'german': 'de',\n",
       " 'greek': 'el',\n",
       " 'guarani': 'gn',\n",
       " 'gujarati': 'gu',\n",
       " 'haitian creole': 'ht',\n",
       " 'hausa': 'ha',\n",
       " 'hawaiian': 'haw',\n",
       " 'hebrew': 'iw',\n",
       " 'hindi': 'hi',\n",
       " 'hmong': 'hmn',\n",
       " 'hungarian': 'hu',\n",
       " 'icelandic': 'is',\n",
       " 'igbo': 'ig',\n",
       " 'ilocano': 'ilo',\n",
       " 'indonesian': 'id',\n",
       " 'irish': 'ga',\n",
       " 'italian': 'it',\n",
       " 'japanese': 'ja',\n",
       " 'javanese': 'jw',\n",
       " 'kannada': 'kn',\n",
       " 'kazakh': 'kk',\n",
       " 'khmer': 'km',\n",
       " 'kinyarwanda': 'rw',\n",
       " 'konkani': 'gom',\n",
       " 'korean': 'ko',\n",
       " 'krio': 'kri',\n",
       " 'kurdish (kurmanji)': 'ku',\n",
       " 'kurdish (sorani)': 'ckb',\n",
       " 'kyrgyz': 'ky',\n",
       " 'lao': 'lo',\n",
       " 'latin': 'la',\n",
       " 'latvian': 'lv',\n",
       " 'lingala': 'ln',\n",
       " 'lithuanian': 'lt',\n",
       " 'luganda': 'lg',\n",
       " 'luxembourgish': 'lb',\n",
       " 'macedonian': 'mk',\n",
       " 'maithili': 'mai',\n",
       " 'malagasy': 'mg',\n",
       " 'malay': 'ms',\n",
       " 'malayalam': 'ml',\n",
       " 'maltese': 'mt',\n",
       " 'maori': 'mi',\n",
       " 'marathi': 'mr',\n",
       " 'meiteilon (manipuri)': 'mni-Mtei',\n",
       " 'mizo': 'lus',\n",
       " 'mongolian': 'mn',\n",
       " 'myanmar': 'my',\n",
       " 'nepali': 'ne',\n",
       " 'norwegian': 'no',\n",
       " 'odia (oriya)': 'or',\n",
       " 'oromo': 'om',\n",
       " 'pashto': 'ps',\n",
       " 'persian': 'fa',\n",
       " 'polish': 'pl',\n",
       " 'portuguese': 'pt',\n",
       " 'punjabi': 'pa',\n",
       " 'quechua': 'qu',\n",
       " 'romanian': 'ro',\n",
       " 'russian': 'ru',\n",
       " 'samoan': 'sm',\n",
       " 'sanskrit': 'sa',\n",
       " 'scots gaelic': 'gd',\n",
       " 'sepedi': 'nso',\n",
       " 'serbian': 'sr',\n",
       " 'sesotho': 'st',\n",
       " 'shona': 'sn',\n",
       " 'sindhi': 'sd',\n",
       " 'sinhala': 'si',\n",
       " 'slovak': 'sk',\n",
       " 'slovenian': 'sl',\n",
       " 'somali': 'so',\n",
       " 'spanish': 'es',\n",
       " 'sundanese': 'su',\n",
       " 'swahili': 'sw',\n",
       " 'swedish': 'sv',\n",
       " 'tajik': 'tg',\n",
       " 'tamil': 'ta',\n",
       " 'tatar': 'tt',\n",
       " 'telugu': 'te',\n",
       " 'thai': 'th',\n",
       " 'tigrinya': 'ti',\n",
       " 'tsonga': 'ts',\n",
       " 'turkish': 'tr',\n",
       " 'turkmen': 'tk',\n",
       " 'twi': 'ak',\n",
       " 'ukrainian': 'uk',\n",
       " 'urdu': 'ur',\n",
       " 'uyghur': 'ug',\n",
       " 'uzbek': 'uz',\n",
       " 'vietnamese': 'vi',\n",
       " 'welsh': 'cy',\n",
       " 'xhosa': 'xh',\n",
       " 'yiddish': 'yi',\n",
       " 'yoruba': 'yo',\n",
       " 'zulu': 'zu'}"
      ]
     },
     "execution_count": 5,
     "metadata": {},
     "output_type": "execute_result"
    }
   ],
   "source": [
    "'''Подходящие значения языков'''\n",
    "langs_dict = GoogleTranslator().get_supported_languages(as_dict=True)\n",
    "langs_dict"
   ]
  },
  {
   "cell_type": "code",
   "execution_count": 38,
   "id": "9fd63942",
   "metadata": {},
   "outputs": [],
   "source": [
    "def translation(text, target_lang, use_list, get_large_trans):\n",
    "    ans = []\n",
    "    errors = []\n",
    "    last_success = 0\n",
    "    if use_list:\n",
    "        for i in trange(len(text),desc='Translating'):\n",
    "            try:\n",
    "                temp_text = GoogleTranslator(source='auto', target=target_lang[i] if type(target_lang) == list else target_lang).translate(text=text[i][:4990] if get_large_trans else text[i])\n",
    "                ans.append(temp_text)\n",
    "                last_success = i\n",
    "            except:\n",
    "                errors.append(i)\n",
    "                ans.append('')\n",
    "            temp_text = None; del temp_text\n",
    "        gc.collect()\n",
    "        return ans, errors, last_success\n",
    "    else:\n",
    "        try:\n",
    "            temp_text = GoogleTranslator(source='auto', target=target_lang).translate(text=text[:4990] if get_large_trans else text)\n",
    "        except:\n",
    "            temp_text = ''\n",
    "        return temp_text\n",
    "        "
   ]
  },
  {
   "cell_type": "code",
   "execution_count": 29,
   "id": "2c5b89e9",
   "metadata": {},
   "outputs": [
    {
     "data": {
      "application/vnd.jupyter.widget-view+json": {
       "model_id": "e212291d5dc34989a8b13843c3eb6615",
       "version_major": 2,
       "version_minor": 0
      },
      "text/plain": [
       "Translating:   0%|          | 0/10 [00:00<?, ?it/s]"
      ]
     },
     "metadata": {},
     "output_type": "display_data"
    }
   ],
   "source": [
    "trans_texts, error_idx, last_success = translation(df.text, target_lang='en', use_list = True, get_large_trans=True)"
   ]
  },
  {
   "cell_type": "code",
   "execution_count": 39,
   "id": "e8a9b66c",
   "metadata": {},
   "outputs": [
    {
     "data": {
      "text/plain": [
       "\"-Kane's recent acts of terrorism... including the explosion of an addiction treatment facility that killed 5 people.\""
      ]
     },
     "execution_count": 39,
     "metadata": {},
     "output_type": "execute_result"
    }
   ],
   "source": [
    "translation(df.text[0], target_lang='en', use_list = False, get_large_trans=True)"
   ]
  },
  {
   "cell_type": "code",
   "execution_count": null,
   "id": "610f5a42",
   "metadata": {},
   "outputs": [],
   "source": []
  },
  {
   "cell_type": "code",
   "execution_count": null,
   "id": "7802d22f",
   "metadata": {},
   "outputs": [],
   "source": []
  }
 ],
 "metadata": {
  "kernelspec": {
   "display_name": "Python 3 (ipykernel)",
   "language": "python",
   "name": "python3"
  },
  "language_info": {
   "codemirror_mode": {
    "name": "ipython",
    "version": 3
   },
   "file_extension": ".py",
   "mimetype": "text/x-python",
   "name": "python",
   "nbconvert_exporter": "python",
   "pygments_lexer": "ipython3",
   "version": "3.11.5"
  }
 },
 "nbformat": 4,
 "nbformat_minor": 5
}
